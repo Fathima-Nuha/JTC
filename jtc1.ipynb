{
 "cells": [
  {
   "cell_type": "code",
   "execution_count": 4,
   "id": "f1db113c",
   "metadata": {},
   "outputs": [
    {
     "name": "stdout",
     "output_type": "stream",
     "text": [
      "Enter the numbers into array  2 3 4 56 7 2\n",
      "\n",
      " The sorted array is\n",
      " [2, 2, 3, 4, 7, 56]\n",
      "\n",
      " The resultant array is\n",
      " [56, 2, 7, 2, 4, 3]\n"
     ]
    }
   ],
   "source": [
    "## The array of numbers are given as input\n",
    "number=[int(i) for i in input(\"Enter the numbers into array \").split()]\n",
    "\n",
    "## Sort the array\n",
    "number.sort()\n",
    "print(\"\\n The sorted array is\\n\",number)\n",
    "\n",
    "## an empty list to store resultant numbers     \n",
    "new_array=[]\n",
    "\n",
    "## continue loop till number array becomes empty\n",
    "\n",
    "## pop last and first number from sorted array to new array\n",
    "\n",
    "while number!=[]: \n",
    "    new_array.append(number.pop())\n",
    "    if number!=[]: ## if list has odd number of values\n",
    "        new_array.append(number.pop(0))\n",
    "        \n",
    "        \n",
    "##resultant array\n",
    "print(\"\\n The resultant array is\\n\",new_array)"
   ]
  },
  {
   "cell_type": "code",
   "execution_count": null,
   "id": "954831b8",
   "metadata": {},
   "outputs": [],
   "source": []
  }
 ],
 "metadata": {
  "kernelspec": {
   "display_name": "Python 3",
   "language": "python",
   "name": "python3"
  },
  "language_info": {
   "codemirror_mode": {
    "name": "ipython",
    "version": 3
   },
   "file_extension": ".py",
   "mimetype": "text/x-python",
   "name": "python",
   "nbconvert_exporter": "python",
   "pygments_lexer": "ipython3",
   "version": "3.8.8"
  }
 },
 "nbformat": 4,
 "nbformat_minor": 5
}
