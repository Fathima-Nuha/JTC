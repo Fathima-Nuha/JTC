{
 "cells": [
  {
   "cell_type": "code",
   "execution_count": 7,
   "id": "f1db113c",
   "metadata": {},
   "outputs": [
    {
     "name": "stdout",
     "output_type": "stream",
     "text": [
      "Enter the numbers into array2 5  3 6 4\n",
      "The sorted array is [2, 3, 4, 5, 6]\n"
     ]
    },
    {
     "data": {
      "text/plain": [
       "[6, 2, 5, 3, 4]"
      ]
     },
     "execution_count": 7,
     "metadata": {},
     "output_type": "execute_result"
    }
   ],
   "source": [
    "## The array of numbers are given as input\n",
    "number=[int(i) for i in input(\"Enter the numbers into array \").split()]\n",
    "\n",
    "## Sort the array\n",
    "number.sort()\n",
    "print(\"The sorted array is\",number)\n",
    "\n",
    "## an empty list to store resultant numbers     \n",
    "new_array=[]\n",
    "\n",
    "## continue loop till number array becomes empty\n",
    "\n",
    "## pop last and first number from sorted array to new array\n",
    "\n",
    "while number!=[]: \n",
    "    new_array.append(number.pop())\n",
    "    if number!=[]: ## if list has odd number of values\n",
    "        new_array.append(number.pop(0))\n",
    "        \n",
    "        \n",
    "##resultant array\n",
    "new_array"
   ]
  }
 ],
 "metadata": {
  "kernelspec": {
   "display_name": "Python 3",
   "language": "python",
   "name": "python3"
  },
  "language_info": {
   "codemirror_mode": {
    "name": "ipython",
    "version": 3
   },
   "file_extension": ".py",
   "mimetype": "text/x-python",
   "name": "python",
   "nbconvert_exporter": "python",
   "pygments_lexer": "ipython3",
   "version": "3.8.8"
  }
 },
 "nbformat": 4,
 "nbformat_minor": 5
}
