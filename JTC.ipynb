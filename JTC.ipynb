{
 "cells": [
  {
   "cell_type": "markdown",
   "id": "cf16a7f4",
   "metadata": {},
   "source": [
    "# # \n",
    "Write a program that takes as input an array of numbers of length N and a number p (positions - p is greater than 0\n",
    "and less than N) and a number d (direction - either 0 for left or 1 for right). The objective is to return the array\n",
    "shifted by p positions in d direction.\n",
    "Example: For an input array [1, 3, 2, 7, 4, 6] with p=3 and d=0\n",
    "the expected result would be [7, 4, 6, 1, 3, 2] with the array shifted left by 3 positions."
   ]
  },
  {
   "cell_type": "code",
   "execution_count": 177,
   "id": "580664c5",
   "metadata": {},
   "outputs": [
    {
     "name": "stdout",
     "output_type": "stream",
     "text": [
      "enter the numbers\n",
      "1 2 3 4  55 6 \n",
      "enter the position to be shifted\n",
      "3 \n",
      "enter the direction\n",
      "to move left enter 0 \n",
      "to move right enter 1\n",
      "\n",
      "Enter either 0 or 1\n",
      "0\n",
      "MOVE 3 position  LEFT\n",
      "[4, 55, 6, 1, 2, 3]\n"
     ]
    }
   ],
   "source": [
    "#input number array\n",
    "number=[int(n) for n in input(\"enter the numbers\\n\").split()]\n",
    "N=len(number)\n",
    "#make a copy of number array\n",
    "x=number.copy()\n",
    "\n",
    "\n",
    "#input enter the position to be shifted \n",
    "while True:\n",
    "\n",
    "    try:\n",
    "        position=int(input(f\"enter the position to be shifted\\n\"))\n",
    "\n",
    "    except:\n",
    "        print(\" enter an integer \")\n",
    "        continue\n",
    "\n",
    "    if position>0 and position<N:\n",
    "        break\n",
    "    else:\n",
    "        print(f\"\\n number must be  greater than 0 and less than {N}\")\n",
    "\n",
    "#enter the direction left or right        \n",
    "print(\"enter the direction\\nto move left enter 0 \\nto move right enter 1\\n\")\n",
    "\n",
    "while True:\n",
    "    direction=int(input(\"Enter either 0 or 1\\n\"))\n",
    "    \n",
    "    if direction in [0,1]:\n",
    "        break\n",
    "         \n",
    "#if direction is right\n",
    "def move_right():\n",
    "    i=0\n",
    "    while i<N:\n",
    "        if (i+position)<N:\n",
    "            x[i+position]=number[i]\n",
    "        else:\n",
    "            t=i\n",
    "            while i<N:\n",
    "                x[i-t]=number[i]\n",
    "                i+=1\n",
    "        i+=1 \n",
    "    return(x)\n",
    "#if direction is left \n",
    "def move_left():\n",
    "    i=N-1\n",
    "    while i>-1:\n",
    "        x[i-position]=number[i]\n",
    "        i+=-1\n",
    "    return(x)\n",
    "\n",
    "if direction==0:\n",
    "    print(f\"MOVE {position} position  LEFT\")\n",
    "    print(move_left())\n",
    "else:\n",
    "    print(f\"MOVE {position} position  RIGHT\")\n",
    "    print(move_right())"
   ]
  },
  {
   "cell_type": "code",
   "execution_count": 162,
   "id": "8e5c64ff",
   "metadata": {},
   "outputs": [
    {
     "name": "stdout",
     "output_type": "stream",
     "text": [
      "enter the position to be shifted\n",
      "3\n"
     ]
    }
   ],
   "source": [
    "while True:\n",
    "\n",
    "    try:\n",
    "        position=int(input(f\"enter the position to be shifted\\n\"))\n",
    "\n",
    "    except:\n",
    "        print(\" enter an integer \")\n",
    "        continue\n",
    "\n",
    "    if position>0 and position<N:\n",
    "        break\n",
    "    else:\n",
    "        print(f\"\\n number must be  greater than 0 and less than {N}\")"
   ]
  },
  {
   "cell_type": "code",
   "execution_count": 163,
   "id": "c1f92e31",
   "metadata": {},
   "outputs": [
    {
     "name": "stdout",
     "output_type": "stream",
     "text": [
      "enter the direction\n",
      "to move left enter 0 \n",
      "to move right enter 1\n",
      "\n",
      "Enter either 0 or 1\n",
      "0\n",
      "MOVE 3 position  LEFT\n"
     ]
    }
   ],
   "source": [
    "print(\"enter the direction\\nto move left enter 0 \\nto move right enter 1\\n\")\n",
    "\n",
    "while True:\n",
    "    direction=int(input(\"Enter either 0 or 1\\n\"))\n",
    "    \n",
    "    if direction in [0,1]:\n",
    "        break\n",
    "if direction==0:\n",
    "    print(f\"MOVE {position} position  LEFT\")\n",
    "else:\n",
    "    print(f\"MOVE {position} position  RIGHT\")"
   ]
  },
  {
   "cell_type": "code",
   "execution_count": 164,
   "id": "99e8e6fc",
   "metadata": {},
   "outputs": [],
   "source": [
    "x=number.copy()"
   ]
  },
  {
   "cell_type": "code",
   "execution_count": 165,
   "id": "b55a6755",
   "metadata": {},
   "outputs": [],
   "source": [
    "if direction==1:\n",
    "    i=0\n",
    "    while i<N:\n",
    "        if (i+position)<N:\n",
    "            x[i+position]=number[i]\n",
    "        else:\n",
    "            t=i\n",
    "            while i<N:\n",
    "                x[i-t]=number[i]\n",
    "                i+=1\n",
    "        i+=1       \n",
    "        \n",
    "else:\n",
    "    i=N-1\n",
    "    while i>-1:\n",
    "        x[i-position]=number[i]\n",
    "        i+=-1"
   ]
  },
  {
   "cell_type": "code",
   "execution_count": 166,
   "id": "f4b7f16e",
   "metadata": {},
   "outputs": [
    {
     "data": {
      "text/plain": [
       "[7, 4, 6, 8, 9, 1, 3, 2]"
      ]
     },
     "execution_count": 166,
     "metadata": {},
     "output_type": "execute_result"
    }
   ],
   "source": [
    "x"
   ]
  },
  {
   "cell_type": "code",
   "execution_count": null,
   "id": "73c8a1bc",
   "metadata": {},
   "outputs": [],
   "source": []
  }
 ],
 "metadata": {
  "kernelspec": {
   "display_name": "Python 3",
   "language": "python",
   "name": "python3"
  },
  "language_info": {
   "codemirror_mode": {
    "name": "ipython",
    "version": 3
   },
   "file_extension": ".py",
   "mimetype": "text/x-python",
   "name": "python",
   "nbconvert_exporter": "python",
   "pygments_lexer": "ipython3",
   "version": "3.8.8"
  }
 },
 "nbformat": 4,
 "nbformat_minor": 5
}
